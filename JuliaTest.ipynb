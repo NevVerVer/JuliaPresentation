{
 "cells": [
  {
   "cell_type": "code",
   "execution_count": 3,
   "metadata": {
    "slideshow": {
     "slide_type": "slide"
    }
   },
   "outputs": [],
   "source": [
    "using Printf\n",
    "using Statistics\n",
    "\n",
    "\n",
    "#using Pkg\n",
    "#Pkg.add(\"RDatasets\")"
   ]
  },
  {
   "cell_type": "markdown",
   "metadata": {},
   "source": [
    "### Hello world!"
   ]
  },
  {
   "cell_type": "code",
   "execution_count": null,
   "metadata": {},
   "outputs": [],
   "source": [
    "println(\"hello world\")"
   ]
  },
  {
   "cell_type": "markdown",
   "metadata": {},
   "source": [
    "### Let's compare the execution time right away"
   ]
  },
  {
   "cell_type": "code",
   "execution_count": null,
   "metadata": {},
   "outputs": [],
   "source": [
    "function n_primes(n::Int64)\n",
    "    primes = Int64[]\n",
    "    i::Int64 = 2\n",
    "    while size(primes)[1] < n\n",
    "        prime_bool::Bool = true\n",
    "        for j = 2:i÷2\n",
    "            if i%j == 0\n",
    "                prime_bool = false\n",
    "            end\n",
    "        end\n",
    "        if prime_bool == true\n",
    "              append!(primes,i)\n",
    "        end\n",
    "        i += 1\n",
    "    end\n",
    "    return primes\n",
    "end\n"
   ]
  },
  {
   "cell_type": "code",
   "execution_count": null,
   "metadata": {},
   "outputs": [],
   "source": [
    "@time n_primes(10000)"
   ]
  },
  {
   "cell_type": "markdown",
   "metadata": {},
   "source": [
    "### Syntax"
   ]
  },
  {
   "cell_type": "markdown",
   "metadata": {},
   "source": [
    "You can pass the specification of multiplication between a number and a variable:"
   ]
  },
  {
   "cell_type": "code",
   "execution_count": null,
   "metadata": {
    "slideshow": {
     "slide_type": "slide"
    }
   },
   "outputs": [],
   "source": [
    "x = 5+8\n",
    "2x - 3x + 2x^2"
   ]
  },
  {
   "cell_type": "markdown",
   "metadata": {},
   "source": [
    "Complex values are here:"
   ]
  },
  {
   "cell_type": "code",
   "execution_count": null,
   "metadata": {},
   "outputs": [],
   "source": [
    "y = (2-1im)*(4+3im)"
   ]
  },
  {
   "cell_type": "markdown",
   "metadata": {},
   "source": [
    "Julia has the ability to manage the internal presentation of data:"
   ]
  },
  {
   "cell_type": "markdown",
   "metadata": {},
   "source": [
    "- typeof(obj) — Object type\n",
    "- typemax(obj) — The maximum number of this type\n",
    "- typemin(obj) — Minimal\n",
    "- eps() — Machine zero\n",
    "- BigInt — Big integer\n",
    "- BigFloat — Big floating point"
   ]
  },
  {
   "cell_type": "code",
   "execution_count": null,
   "metadata": {},
   "outputs": [],
   "source": [
    "typeof(y) "
   ]
  },
  {
   "cell_type": "code",
   "execution_count": null,
   "metadata": {},
   "outputs": [],
   "source": [
    "eps()"
   ]
  },
  {
   "cell_type": "markdown",
   "metadata": {},
   "source": [
    "### Accuracy limitations"
   ]
  },
  {
   "cell_type": "code",
   "execution_count": null,
   "metadata": {},
   "outputs": [],
   "source": [
    "b = 1.1111111111111111\n",
    "println(b + 1.1111111111111111)\n",
    "\n",
    "BigInt(77777777777777777777777777777777777777777)\n",
    "\n",
    "BigFloat(2.3^45/6)\n",
    "BigFloat(0.777777777777777777777777777777777777777) # We can see, where precision star to fall"
   ]
  },
  {
   "cell_type": "markdown",
   "metadata": {},
   "source": [
    "Allows to use Unicode:"
   ]
  },
  {
   "cell_type": "code",
   "execution_count": 2,
   "metadata": {},
   "outputs": [
    {
     "data": {
      "text/plain": [
       "113.09733552923254"
      ]
     },
     "execution_count": 2,
     "metadata": {},
     "output_type": "execute_result"
    }
   ],
   "source": [
    "function sphere_vol(β)\n",
    "    α = 4/3\n",
    "    return α*π*β^3\n",
    "end\n",
    "\n",
    "sphere_vol(3)"
   ]
  },
  {
   "cell_type": "markdown",
   "metadata": {},
   "source": [
    "Functions can also be defined more succinctly"
   ]
  },
  {
   "cell_type": "code",
   "execution_count": 3,
   "metadata": {},
   "outputs": [
    {
     "data": {
      "text/plain": [
       "1.4"
      ]
     },
     "execution_count": 3,
     "metadata": {},
     "output_type": "execute_result"
    }
   ],
   "source": [
    "quadratic(a, sqr_term, b) = (-b + sqr_term) / 2a\n",
    "\n",
    "quadratic(5, 20, 6)"
   ]
  },
  {
   "cell_type": "markdown",
   "metadata": {},
   "source": [
    "**@printf** allows number formatting but does not automatically append the \\n to statements"
   ]
  },
  {
   "cell_type": "code",
   "execution_count": 4,
   "metadata": {},
   "outputs": [
    {
     "name": "stdout",
     "output_type": "stream",
     "text": [
      "volume = 113.097\n"
     ]
    }
   ],
   "source": [
    "using Printf\n",
    "\n",
    "\n",
    "vol = sphere_vol(3)\n",
    "\n",
    "@printf \"volume = %0.3f\\n\" vol "
   ]
  },
  {
   "cell_type": "markdown",
   "metadata": {},
   "source": [
    "### Arrays"
   ]
  },
  {
   "cell_type": "markdown",
   "metadata": {},
   "source": [
    "- **Array{T}(undef, dims...)** — Array of type *Т* and dimension *dims*\n",
    "\n",
    "\n",
    "- **zeros(T, dims...)** — Array of zeros\n",
    "\n",
    "\n",
    "- **ones(T, dims...)** — or ones\n",
    "\n",
    "Indexing starts from **one**!"
   ]
  },
  {
   "cell_type": "code",
   "execution_count": null,
   "metadata": {},
   "outputs": [],
   "source": [
    "A = [1 2 4; 88 5 4; 7 8 9]\n",
    "A[2:3]"
   ]
  },
  {
   "cell_type": "code",
   "execution_count": null,
   "metadata": {},
   "outputs": [],
   "source": [
    "m1 = rand(3,2)\n",
    "m2 = reshape(1:2:11, 3,2)"
   ]
  },
  {
   "cell_type": "code",
   "execution_count": null,
   "metadata": {},
   "outputs": [],
   "source": [
    "for i in eachindex(A) # like enumerate(A) in python \n",
    "    println(i)\n",
    "   \n",
    "end "
   ]
  },
  {
   "cell_type": "markdown",
   "metadata": {},
   "source": [
    "### Multidimensional Arrays"
   ]
  },
  {
   "cell_type": "code",
   "execution_count": null,
   "metadata": {},
   "outputs": [],
   "source": [
    "zeros(Int8, 2, 3)"
   ]
  },
  {
   "cell_type": "code",
   "execution_count": 8,
   "metadata": {},
   "outputs": [
    {
     "name": "stdout",
     "output_type": "stream",
     "text": [
      "[1 1 1; 2 1 1; 1 2 1; 2 2 2; 1 3 2; 2 3 2; 1 1 3; 2 1 3; 1 2 3; 2 2 4; 1 3 4; 2 3 4]"
     ]
    }
   ],
   "source": [
    "promote(1, 2.3, 4//5) # This combination of Int, Float64 and Rational promotes to Float64\n",
    "\n",
    "\n",
    "m1 = hcat(repeat([1,2],inner=[1],outer=[3*2]),\n",
    "          repeat([1,2,3],inner=[2],outer=[2]),\n",
    "          repeat([1,2,3,4],inner=[3],outer=[1]))\n",
    "print(m1)"
   ]
  },
  {
   "cell_type": "code",
   "execution_count": null,
   "metadata": {},
   "outputs": [],
   "source": [
    "[1:2, 4:5] # Concatenation"
   ]
  },
  {
   "cell_type": "code",
   "execution_count": null,
   "metadata": {},
   "outputs": [],
   "source": [
    "[1:2 4:5]"
   ]
  },
  {
   "cell_type": "markdown",
   "metadata": {},
   "source": [
    "### Debugging"
   ]
  },
  {
   "cell_type": "code",
   "execution_count": null,
   "metadata": {},
   "outputs": [],
   "source": [
    "function func(a, b)\n",
    "    return a*b\n",
    "end\n",
    "\n",
    "func([1,2,3],[4,5,6])"
   ]
  },
  {
   "cell_type": "markdown",
   "metadata": {},
   "source": [
    "Julia and its package ecosystem includes tools that may help you diagnose problems and improve the performance of code:"
   ]
  },
  {
   "cell_type": "markdown",
   "metadata": {},
   "source": [
    "1. A macro to evaluate an expression, discarding the resulting value, instead returning the total number of bytes allocated during evaluation of the expression."
   ]
  },
  {
   "cell_type": "code",
   "execution_count": 7,
   "metadata": {},
   "outputs": [
    {
     "ename": "LoadError",
     "evalue": "UndefVarError: n_primes not defined",
     "output_type": "error",
     "traceback": [
      "UndefVarError: n_primes not defined",
      "",
      "Stacktrace:",
      " [1] top-level scope at .\\timing.jl:267 [inlined]",
      " [2] top-level scope at .\\In[7]:0",
      " [3] include_string(::Function, ::Module, ::String, ::String) at .\\loading.jl:1091"
     ]
    }
   ],
   "source": [
    "@allocated n_primes(10000)"
   ]
  },
  {
   "cell_type": "markdown",
   "metadata": {},
   "source": [
    "Evaluates the arguments to the function or macro call, determines their types, and calls code_warntype on the resulting expression."
   ]
  },
  {
   "cell_type": "code",
   "execution_count": 8,
   "metadata": {},
   "outputs": [
    {
     "ename": "LoadError",
     "evalue": "UndefVarError: n_primes not defined",
     "output_type": "error",
     "traceback": [
      "UndefVarError: n_primes not defined",
      "",
      "Stacktrace:",
      " [1] top-level scope at In[8]:1",
      " [2] include_string(::Function, ::Module, ::String, ::String) at .\\loading.jl:1091"
     ]
    }
   ],
   "source": [
    "@code_warntype n_primes(10000)"
   ]
  },
  {
   "cell_type": "markdown",
   "metadata": {},
   "source": [
    "### Graphs!"
   ]
  },
  {
   "cell_type": "markdown",
   "metadata": {},
   "source": [
    "- Pkg.add(\"Plots\")\n",
    "\n",
    "\n",
    "- Pkg.add(\"PyPlot\") - the most popular\n",
    "\n",
    "\n",
    "- Pkg.add(\"Gadfly\")\n",
    "\n",
    "\n",
    "- Pkg.add(\"Winston\")"
   ]
  },
  {
   "cell_type": "code",
   "execution_count": 1,
   "metadata": {},
   "outputs": [
    {
     "data": {
      "image/svg+xml": [
       "<?xml version=\"1.0\" encoding=\"utf-8\"?>\n",
       "<svg xmlns=\"http://www.w3.org/2000/svg\" xmlns:xlink=\"http://www.w3.org/1999/xlink\" width=\"600\" height=\"400\" viewBox=\"0 0 2400 1600\">\n",
       "<defs>\n",
       "  <clipPath id=\"clip300\">\n",
       "    <rect x=\"0\" y=\"0\" width=\"2400\" height=\"1600\"/>\n",
       "  </clipPath>\n",
       "</defs>\n",
       "<path clip-path=\"url(#clip300)\" d=\"\n",
       "M0 1600 L2400 1600 L2400 0 L0 0  Z\n",
       "  \" fill=\"#ffffff\" fill-rule=\"evenodd\" fill-opacity=\"1\"/>\n",
       "<defs>\n",
       "  <clipPath id=\"clip301\">\n",
       "    <rect x=\"480\" y=\"0\" width=\"1681\" height=\"1600\"/>\n",
       "  </clipPath>\n",
       "</defs>\n",
       "<path clip-path=\"url(#clip300)\" d=\"\n",
       "M174.862 1486.45 L2352.76 1486.45 L2352.76 47.2441 L174.862 47.2441  Z\n",
       "  \" fill=\"#ffffff\" fill-rule=\"evenodd\" fill-opacity=\"1\"/>\n",
       "<defs>\n",
       "  <clipPath id=\"clip302\">\n",
       "    <rect x=\"174\" y=\"47\" width=\"2179\" height=\"1440\"/>\n",
       "  </clipPath>\n",
       "</defs>\n",
       "<polyline clip-path=\"url(#clip302)\" style=\"stroke:#000000; stroke-width:2; stroke-opacity:0.1; fill:none\" points=\"\n",
       "  464.791,1486.45 464.791,47.2441 \n",
       "  \"/>\n",
       "<polyline clip-path=\"url(#clip302)\" style=\"stroke:#000000; stroke-width:2; stroke-opacity:0.1; fill:none\" points=\"\n",
       "  921.373,1486.45 921.373,47.2441 \n",
       "  \"/>\n",
       "<polyline clip-path=\"url(#clip302)\" style=\"stroke:#000000; stroke-width:2; stroke-opacity:0.1; fill:none\" points=\"\n",
       "  1377.95,1486.45 1377.95,47.2441 \n",
       "  \"/>\n",
       "<polyline clip-path=\"url(#clip302)\" style=\"stroke:#000000; stroke-width:2; stroke-opacity:0.1; fill:none\" points=\"\n",
       "  1834.54,1486.45 1834.54,47.2441 \n",
       "  \"/>\n",
       "<polyline clip-path=\"url(#clip302)\" style=\"stroke:#000000; stroke-width:2; stroke-opacity:0.1; fill:none\" points=\"\n",
       "  2291.12,1486.45 2291.12,47.2441 \n",
       "  \"/>\n",
       "<polyline clip-path=\"url(#clip300)\" style=\"stroke:#000000; stroke-width:4; stroke-opacity:1; fill:none\" points=\"\n",
       "  174.862,1486.45 2352.76,1486.45 \n",
       "  \"/>\n",
       "<polyline clip-path=\"url(#clip300)\" style=\"stroke:#000000; stroke-width:4; stroke-opacity:1; fill:none\" points=\"\n",
       "  464.791,1486.45 464.791,1469.18 \n",
       "  \"/>\n",
       "<polyline clip-path=\"url(#clip300)\" style=\"stroke:#000000; stroke-width:4; stroke-opacity:1; fill:none\" points=\"\n",
       "  921.373,1486.45 921.373,1469.18 \n",
       "  \"/>\n",
       "<polyline clip-path=\"url(#clip300)\" style=\"stroke:#000000; stroke-width:4; stroke-opacity:1; fill:none\" points=\"\n",
       "  1377.95,1486.45 1377.95,1469.18 \n",
       "  \"/>\n",
       "<polyline clip-path=\"url(#clip300)\" style=\"stroke:#000000; stroke-width:4; stroke-opacity:1; fill:none\" points=\"\n",
       "  1834.54,1486.45 1834.54,1469.18 \n",
       "  \"/>\n",
       "<polyline clip-path=\"url(#clip300)\" style=\"stroke:#000000; stroke-width:4; stroke-opacity:1; fill:none\" points=\"\n",
       "  2291.12,1486.45 2291.12,1469.18 \n",
       "  \"/>\n",
       "<path clip-path=\"url(#clip300)\" d=\"M 0 0 M459.444 1543.18 L475.763 1543.18 L475.763 1547.12 L453.819 1547.12 L453.819 1543.18 Q456.481 1540.43 461.064 1535.8 Q465.671 1531.15 466.851 1529.81 Q469.097 1527.28 469.976 1525.55 Q470.879 1523.79 470.879 1522.1 Q470.879 1519.34 468.935 1517.61 Q467.014 1515.87 463.912 1515.87 Q461.713 1515.87 459.259 1516.63 Q456.828 1517.4 454.051 1518.95 L454.051 1514.23 Q456.875 1513.09 459.328 1512.51 Q461.782 1511.93 463.819 1511.93 Q469.189 1511.93 472.384 1514.62 Q475.578 1517.31 475.578 1521.8 Q475.578 1523.93 474.768 1525.85 Q473.981 1527.74 471.875 1530.34 Q471.296 1531.01 468.194 1534.23 Q465.092 1537.42 459.444 1543.18 Z\" fill=\"#000000\" fill-rule=\"evenodd\" fill-opacity=\"1\" /><path clip-path=\"url(#clip300)\" d=\"M 0 0 M924.382 1516.63 L912.577 1535.08 L924.382 1535.08 L924.382 1516.63 M923.155 1512.56 L929.035 1512.56 L929.035 1535.08 L933.965 1535.08 L933.965 1538.97 L929.035 1538.97 L929.035 1547.12 L924.382 1547.12 L924.382 1538.97 L908.78 1538.97 L908.78 1534.46 L923.155 1512.56 Z\" fill=\"#000000\" fill-rule=\"evenodd\" fill-opacity=\"1\" /><path clip-path=\"url(#clip300)\" d=\"M 0 0 M1378.36 1527.98 Q1375.21 1527.98 1373.36 1530.13 Q1371.53 1532.28 1371.53 1536.03 Q1371.53 1539.76 1373.36 1541.93 Q1375.21 1544.09 1378.36 1544.09 Q1381.51 1544.09 1383.34 1541.93 Q1385.19 1539.76 1385.19 1536.03 Q1385.19 1532.28 1383.34 1530.13 Q1381.51 1527.98 1378.36 1527.98 M1387.64 1513.32 L1387.64 1517.58 Q1385.88 1516.75 1384.08 1516.31 Q1382.29 1515.87 1380.54 1515.87 Q1375.91 1515.87 1373.45 1519 Q1371.02 1522.12 1370.67 1528.44 Q1372.04 1526.43 1374.1 1525.36 Q1376.16 1524.27 1378.64 1524.27 Q1383.85 1524.27 1386.85 1527.44 Q1389.89 1530.59 1389.89 1536.03 Q1389.89 1541.36 1386.74 1544.57 Q1383.59 1547.79 1378.36 1547.79 Q1372.36 1547.79 1369.19 1543.21 Q1366.02 1538.6 1366.02 1529.87 Q1366.02 1521.68 1369.91 1516.82 Q1373.8 1511.93 1380.35 1511.93 Q1382.11 1511.93 1383.89 1512.28 Q1385.7 1512.63 1387.64 1513.32 Z\" fill=\"#000000\" fill-rule=\"evenodd\" fill-opacity=\"1\" /><path clip-path=\"url(#clip300)\" d=\"M 0 0 M1834.54 1530.71 Q1831.2 1530.71 1829.28 1532.49 Q1827.38 1534.27 1827.38 1537.4 Q1827.38 1540.52 1829.28 1542.31 Q1831.2 1544.09 1834.54 1544.09 Q1837.87 1544.09 1839.79 1542.31 Q1841.71 1540.5 1841.71 1537.4 Q1841.71 1534.27 1839.79 1532.49 Q1837.89 1530.71 1834.54 1530.71 M1829.86 1528.72 Q1826.85 1527.98 1825.16 1525.92 Q1823.49 1523.86 1823.49 1520.89 Q1823.49 1516.75 1826.43 1514.34 Q1829.4 1511.93 1834.54 1511.93 Q1839.7 1511.93 1842.64 1514.34 Q1845.58 1516.75 1845.58 1520.89 Q1845.58 1523.86 1843.89 1525.92 Q1842.22 1527.98 1839.23 1528.72 Q1842.61 1529.5 1844.49 1531.8 Q1846.39 1534.09 1846.39 1537.4 Q1846.39 1542.42 1843.31 1545.11 Q1840.25 1547.79 1834.54 1547.79 Q1828.82 1547.79 1825.74 1545.11 Q1822.68 1542.42 1822.68 1537.4 Q1822.68 1534.09 1824.58 1531.8 Q1826.48 1529.5 1829.86 1528.72 M1828.15 1521.33 Q1828.15 1524.02 1829.81 1525.52 Q1831.5 1527.03 1834.54 1527.03 Q1837.55 1527.03 1839.23 1525.52 Q1840.95 1524.02 1840.95 1521.33 Q1840.95 1518.65 1839.23 1517.14 Q1837.55 1515.64 1834.54 1515.64 Q1831.5 1515.64 1829.81 1517.14 Q1828.15 1518.65 1828.15 1521.33 Z\" fill=\"#000000\" fill-rule=\"evenodd\" fill-opacity=\"1\" /><path clip-path=\"url(#clip300)\" d=\"M 0 0 M2267.99 1543.18 L2275.63 1543.18 L2275.63 1516.82 L2267.32 1518.49 L2267.32 1514.23 L2275.59 1512.56 L2280.26 1512.56 L2280.26 1543.18 L2287.9 1543.18 L2287.9 1547.12 L2267.99 1547.12 L2267.99 1543.18 Z\" fill=\"#000000\" fill-rule=\"evenodd\" fill-opacity=\"1\" /><path clip-path=\"url(#clip300)\" d=\"M 0 0 M2302.97 1515.64 Q2299.36 1515.64 2297.53 1519.2 Q2295.72 1522.75 2295.72 1529.87 Q2295.72 1536.98 2297.53 1540.55 Q2299.36 1544.09 2302.97 1544.09 Q2306.6 1544.09 2308.41 1540.55 Q2310.24 1536.98 2310.24 1529.87 Q2310.24 1522.75 2308.41 1519.2 Q2306.6 1515.64 2302.97 1515.64 M2302.97 1511.93 Q2308.78 1511.93 2311.83 1516.54 Q2314.91 1521.12 2314.91 1529.87 Q2314.91 1538.6 2311.83 1543.21 Q2308.78 1547.79 2302.97 1547.79 Q2297.16 1547.79 2294.08 1543.21 Q2291.02 1538.6 2291.02 1529.87 Q2291.02 1521.12 2294.08 1516.54 Q2297.16 1511.93 2302.97 1511.93 Z\" fill=\"#000000\" fill-rule=\"evenodd\" fill-opacity=\"1\" /><polyline clip-path=\"url(#clip302)\" style=\"stroke:#000000; stroke-width:2; stroke-opacity:0.1; fill:none\" points=\"\n",
       "  174.862,1462.61 2352.76,1462.61 \n",
       "  \"/>\n",
       "<polyline clip-path=\"url(#clip302)\" style=\"stroke:#000000; stroke-width:2; stroke-opacity:0.1; fill:none\" points=\"\n",
       "  174.862,1116.64 2352.76,1116.64 \n",
       "  \"/>\n",
       "<polyline clip-path=\"url(#clip302)\" style=\"stroke:#000000; stroke-width:2; stroke-opacity:0.1; fill:none\" points=\"\n",
       "  174.862,770.663 2352.76,770.663 \n",
       "  \"/>\n",
       "<polyline clip-path=\"url(#clip302)\" style=\"stroke:#000000; stroke-width:2; stroke-opacity:0.1; fill:none\" points=\"\n",
       "  174.862,424.69 2352.76,424.69 \n",
       "  \"/>\n",
       "<polyline clip-path=\"url(#clip302)\" style=\"stroke:#000000; stroke-width:2; stroke-opacity:0.1; fill:none\" points=\"\n",
       "  174.862,78.7161 2352.76,78.7161 \n",
       "  \"/>\n",
       "<polyline clip-path=\"url(#clip300)\" style=\"stroke:#000000; stroke-width:4; stroke-opacity:1; fill:none\" points=\"\n",
       "  174.862,1486.45 174.862,47.2441 \n",
       "  \"/>\n",
       "<polyline clip-path=\"url(#clip300)\" style=\"stroke:#000000; stroke-width:4; stroke-opacity:1; fill:none\" points=\"\n",
       "  174.862,1462.61 200.997,1462.61 \n",
       "  \"/>\n",
       "<polyline clip-path=\"url(#clip300)\" style=\"stroke:#000000; stroke-width:4; stroke-opacity:1; fill:none\" points=\"\n",
       "  174.862,1116.64 200.997,1116.64 \n",
       "  \"/>\n",
       "<polyline clip-path=\"url(#clip300)\" style=\"stroke:#000000; stroke-width:4; stroke-opacity:1; fill:none\" points=\"\n",
       "  174.862,770.663 200.997,770.663 \n",
       "  \"/>\n",
       "<polyline clip-path=\"url(#clip300)\" style=\"stroke:#000000; stroke-width:4; stroke-opacity:1; fill:none\" points=\"\n",
       "  174.862,424.69 200.997,424.69 \n",
       "  \"/>\n",
       "<polyline clip-path=\"url(#clip300)\" style=\"stroke:#000000; stroke-width:4; stroke-opacity:1; fill:none\" points=\"\n",
       "  174.862,78.7161 200.997,78.7161 \n",
       "  \"/>\n",
       "<path clip-path=\"url(#clip300)\" d=\"M 0 0 M62.9365 1448.41 Q59.3254 1448.41 57.4967 1451.97 Q55.6912 1455.52 55.6912 1462.64 Q55.6912 1469.75 57.4967 1473.32 Q59.3254 1476.86 62.9365 1476.86 Q66.5707 1476.86 68.3763 1473.32 Q70.205 1469.75 70.205 1462.64 Q70.205 1455.52 68.3763 1451.97 Q66.5707 1448.41 62.9365 1448.41 M62.9365 1444.71 Q68.7467 1444.71 71.8022 1449.31 Q74.8809 1453.89 74.8809 1462.64 Q74.8809 1471.37 71.8022 1475.98 Q68.7467 1480.56 62.9365 1480.56 Q57.1264 1480.56 54.0477 1475.98 Q50.9921 1471.37 50.9921 1462.64 Q50.9921 1453.89 54.0477 1449.31 Q57.1264 1444.71 62.9365 1444.71 Z\" fill=\"#000000\" fill-rule=\"evenodd\" fill-opacity=\"1\" /><path clip-path=\"url(#clip300)\" d=\"M 0 0 M79.9503 1474.01 L84.8345 1474.01 L84.8345 1479.89 L79.9503 1479.89 L79.9503 1474.01 Z\" fill=\"#000000\" fill-rule=\"evenodd\" fill-opacity=\"1\" /><path clip-path=\"url(#clip300)\" d=\"M 0 0 M99.9039 1448.41 Q96.2928 1448.41 94.4641 1451.97 Q92.6586 1455.52 92.6586 1462.64 Q92.6586 1469.75 94.4641 1473.32 Q96.2928 1476.86 99.9039 1476.86 Q103.538 1476.86 105.344 1473.32 Q107.172 1469.75 107.172 1462.64 Q107.172 1455.52 105.344 1451.97 Q103.538 1448.41 99.9039 1448.41 M99.9039 1444.71 Q105.714 1444.71 108.77 1449.31 Q111.848 1453.89 111.848 1462.64 Q111.848 1471.37 108.77 1475.98 Q105.714 1480.56 99.9039 1480.56 Q94.0937 1480.56 91.0151 1475.98 Q87.9595 1471.37 87.9595 1462.64 Q87.9595 1453.89 91.0151 1449.31 Q94.0937 1444.71 99.9039 1444.71 Z\" fill=\"#000000\" fill-rule=\"evenodd\" fill-opacity=\"1\" /><path clip-path=\"url(#clip300)\" d=\"M 0 0 M126.918 1448.41 Q123.307 1448.41 121.478 1451.97 Q119.672 1455.52 119.672 1462.64 Q119.672 1469.75 121.478 1473.32 Q123.307 1476.86 126.918 1476.86 Q130.552 1476.86 132.357 1473.32 Q134.186 1469.75 134.186 1462.64 Q134.186 1455.52 132.357 1451.97 Q130.552 1448.41 126.918 1448.41 M126.918 1444.71 Q132.728 1444.71 135.783 1449.31 Q138.862 1453.89 138.862 1462.64 Q138.862 1471.37 135.783 1475.98 Q132.728 1480.56 126.918 1480.56 Q121.107 1480.56 118.029 1475.98 Q114.973 1471.37 114.973 1462.64 Q114.973 1453.89 118.029 1449.31 Q121.107 1444.71 126.918 1444.71 Z\" fill=\"#000000\" fill-rule=\"evenodd\" fill-opacity=\"1\" /><path clip-path=\"url(#clip300)\" d=\"M 0 0 M65.5291 1102.44 Q61.918 1102.44 60.0893 1106 Q58.2838 1109.54 58.2838 1116.67 Q58.2838 1123.78 60.0893 1127.34 Q61.918 1130.88 65.5291 1130.88 Q69.1633 1130.88 70.9689 1127.34 Q72.7976 1123.78 72.7976 1116.67 Q72.7976 1109.54 70.9689 1106 Q69.1633 1102.44 65.5291 1102.44 M65.5291 1098.73 Q71.3392 1098.73 74.3948 1103.34 Q77.4735 1107.92 77.4735 1116.67 Q77.4735 1125.4 74.3948 1130 Q71.3392 1134.59 65.5291 1134.59 Q59.7189 1134.59 56.6402 1130 Q53.5847 1125.4 53.5847 1116.67 Q53.5847 1107.92 56.6402 1103.34 Q59.7189 1098.73 65.5291 1098.73 Z\" fill=\"#000000\" fill-rule=\"evenodd\" fill-opacity=\"1\" /><path clip-path=\"url(#clip300)\" d=\"M 0 0 M82.5429 1128.04 L87.4271 1128.04 L87.4271 1133.92 L82.5429 1133.92 L82.5429 1128.04 Z\" fill=\"#000000\" fill-rule=\"evenodd\" fill-opacity=\"1\" /><path clip-path=\"url(#clip300)\" d=\"M 0 0 M96.5243 1129.98 L112.844 1129.98 L112.844 1133.92 L90.8993 1133.92 L90.8993 1129.98 Q93.5613 1127.23 98.1447 1122.6 Q102.751 1117.94 103.932 1116.6 Q106.177 1114.08 107.057 1112.34 Q107.959 1110.58 107.959 1108.89 Q107.959 1106.14 106.015 1104.4 Q104.094 1102.67 100.992 1102.67 Q98.7928 1102.67 96.3391 1103.43 Q93.9086 1104.19 91.1308 1105.75 L91.1308 1101.02 Q93.9549 1099.89 96.4085 1099.31 Q98.8622 1098.73 100.899 1098.73 Q106.27 1098.73 109.464 1101.42 Q112.658 1104.1 112.658 1108.59 Q112.658 1110.72 111.848 1112.64 Q111.061 1114.54 108.955 1117.13 Q108.376 1117.81 105.274 1121.02 Q102.172 1124.22 96.5243 1129.98 Z\" fill=\"#000000\" fill-rule=\"evenodd\" fill-opacity=\"1\" /><path clip-path=\"url(#clip300)\" d=\"M 0 0 M117.959 1099.36 L136.316 1099.36 L136.316 1103.29 L122.242 1103.29 L122.242 1111.76 Q123.26 1111.42 124.279 1111.25 Q125.297 1111.07 126.316 1111.07 Q132.103 1111.07 135.482 1114.24 Q138.862 1117.41 138.862 1122.83 Q138.862 1128.41 135.39 1131.51 Q131.918 1134.59 125.598 1134.59 Q123.422 1134.59 121.154 1134.22 Q118.908 1133.85 116.501 1133.11 L116.501 1128.41 Q118.584 1129.54 120.807 1130.1 Q123.029 1130.65 125.506 1130.65 Q129.51 1130.65 131.848 1128.55 Q134.186 1126.44 134.186 1122.83 Q134.186 1119.22 131.848 1117.11 Q129.51 1115 125.506 1115 Q123.631 1115 121.756 1115.42 Q119.904 1115.84 117.959 1116.72 L117.959 1099.36 Z\" fill=\"#000000\" fill-rule=\"evenodd\" fill-opacity=\"1\" /><path clip-path=\"url(#clip300)\" d=\"M 0 0 M63.9319 756.462 Q60.3208 756.462 58.4921 760.027 Q56.6865 763.568 56.6865 770.698 Q56.6865 777.804 58.4921 781.369 Q60.3208 784.911 63.9319 784.911 Q67.5661 784.911 69.3717 781.369 Q71.2004 777.804 71.2004 770.698 Q71.2004 763.568 69.3717 760.027 Q67.5661 756.462 63.9319 756.462 M63.9319 752.758 Q69.742 752.758 72.7976 757.365 Q75.8763 761.948 75.8763 770.698 Q75.8763 779.425 72.7976 784.031 Q69.742 788.614 63.9319 788.614 Q58.1217 788.614 55.043 784.031 Q51.9875 779.425 51.9875 770.698 Q51.9875 761.948 55.043 757.365 Q58.1217 752.758 63.9319 752.758 Z\" fill=\"#000000\" fill-rule=\"evenodd\" fill-opacity=\"1\" /><path clip-path=\"url(#clip300)\" d=\"M 0 0 M80.9457 782.063 L85.8299 782.063 L85.8299 787.943 L80.9457 787.943 L80.9457 782.063 Z\" fill=\"#000000\" fill-rule=\"evenodd\" fill-opacity=\"1\" /><path clip-path=\"url(#clip300)\" d=\"M 0 0 M90.9456 753.383 L109.302 753.383 L109.302 757.318 L95.228 757.318 L95.228 765.79 Q96.2465 765.443 97.265 765.281 Q98.2835 765.096 99.3021 765.096 Q105.089 765.096 108.469 768.267 Q111.848 771.439 111.848 776.855 Q111.848 782.434 108.376 785.536 Q104.904 788.614 98.5845 788.614 Q96.4085 788.614 94.14 788.244 Q91.8947 787.874 89.4873 787.133 L89.4873 782.434 Q91.5706 783.568 93.7928 784.124 Q96.015 784.679 98.4919 784.679 Q102.496 784.679 104.834 782.573 Q107.172 780.466 107.172 776.855 Q107.172 773.244 104.834 771.138 Q102.496 769.031 98.4919 769.031 Q96.6169 769.031 94.7419 769.448 Q92.89 769.864 90.9456 770.744 L90.9456 753.383 Z\" fill=\"#000000\" fill-rule=\"evenodd\" fill-opacity=\"1\" /><path clip-path=\"url(#clip300)\" d=\"M 0 0 M126.918 756.462 Q123.307 756.462 121.478 760.027 Q119.672 763.568 119.672 770.698 Q119.672 777.804 121.478 781.369 Q123.307 784.911 126.918 784.911 Q130.552 784.911 132.357 781.369 Q134.186 777.804 134.186 770.698 Q134.186 763.568 132.357 760.027 Q130.552 756.462 126.918 756.462 M126.918 752.758 Q132.728 752.758 135.783 757.365 Q138.862 761.948 138.862 770.698 Q138.862 779.425 135.783 784.031 Q132.728 788.614 126.918 788.614 Q121.107 788.614 118.029 784.031 Q114.973 779.425 114.973 770.698 Q114.973 761.948 118.029 757.365 Q121.107 752.758 126.918 752.758 Z\" fill=\"#000000\" fill-rule=\"evenodd\" fill-opacity=\"1\" /><path clip-path=\"url(#clip300)\" d=\"M 0 0 M64.8346 410.488 Q61.2236 410.488 59.3949 414.053 Q57.5893 417.595 57.5893 424.724 Q57.5893 431.831 59.3949 435.396 Q61.2236 438.937 64.8346 438.937 Q68.4689 438.937 70.2744 435.396 Q72.1031 431.831 72.1031 424.724 Q72.1031 417.595 70.2744 414.053 Q68.4689 410.488 64.8346 410.488 M64.8346 406.785 Q70.6448 406.785 73.7003 411.391 Q76.779 415.974 76.779 424.724 Q76.779 433.451 73.7003 438.058 Q70.6448 442.641 64.8346 442.641 Q59.0245 442.641 55.9458 438.058 Q52.8903 433.451 52.8903 424.724 Q52.8903 415.974 55.9458 411.391 Q59.0245 406.785 64.8346 406.785 Z\" fill=\"#000000\" fill-rule=\"evenodd\" fill-opacity=\"1\" /><path clip-path=\"url(#clip300)\" d=\"M 0 0 M81.8484 436.09 L86.7327 436.09 L86.7327 441.97 L81.8484 441.97 L81.8484 436.09 Z\" fill=\"#000000\" fill-rule=\"evenodd\" fill-opacity=\"1\" /><path clip-path=\"url(#clip300)\" d=\"M 0 0 M90.6215 407.41 L112.844 407.41 L112.844 409.4 L100.297 441.97 L95.4132 441.97 L107.219 411.345 L90.6215 411.345 L90.6215 407.41 Z\" fill=\"#000000\" fill-rule=\"evenodd\" fill-opacity=\"1\" /><path clip-path=\"url(#clip300)\" d=\"M 0 0 M117.959 407.41 L136.316 407.41 L136.316 411.345 L122.242 411.345 L122.242 419.817 Q123.26 419.47 124.279 419.308 Q125.297 419.122 126.316 419.122 Q132.103 419.122 135.482 422.294 Q138.862 425.465 138.862 430.882 Q138.862 436.46 135.39 439.562 Q131.918 442.641 125.598 442.641 Q123.422 442.641 121.154 442.271 Q118.908 441.9 116.501 441.159 L116.501 436.46 Q118.584 437.595 120.807 438.15 Q123.029 438.706 125.506 438.706 Q129.51 438.706 131.848 436.599 Q134.186 434.493 134.186 430.882 Q134.186 427.271 131.848 425.164 Q129.51 423.058 125.506 423.058 Q123.631 423.058 121.756 423.474 Q119.904 423.891 117.959 424.771 L117.959 407.41 Z\" fill=\"#000000\" fill-rule=\"evenodd\" fill-opacity=\"1\" /><path clip-path=\"url(#clip300)\" d=\"M 0 0 M54.9736 92.0609 L62.6124 92.0609 L62.6124 65.6953 L54.3023 67.362 L54.3023 63.1028 L62.5661 61.4361 L67.242 61.4361 L67.242 92.0609 L74.8809 92.0609 L74.8809 95.9961 L54.9736 95.9961 L54.9736 92.0609 Z\" fill=\"#000000\" fill-rule=\"evenodd\" fill-opacity=\"1\" /><path clip-path=\"url(#clip300)\" d=\"M 0 0 M79.9503 90.1165 L84.8345 90.1165 L84.8345 95.9961 L79.9503 95.9961 L79.9503 90.1165 Z\" fill=\"#000000\" fill-rule=\"evenodd\" fill-opacity=\"1\" /><path clip-path=\"url(#clip300)\" d=\"M 0 0 M99.9039 64.5148 Q96.2928 64.5148 94.4641 68.0796 Q92.6586 71.6212 92.6586 78.7508 Q92.6586 85.8573 94.4641 89.4221 Q96.2928 92.9637 99.9039 92.9637 Q103.538 92.9637 105.344 89.4221 Q107.172 85.8573 107.172 78.7508 Q107.172 71.6212 105.344 68.0796 Q103.538 64.5148 99.9039 64.5148 M99.9039 60.8111 Q105.714 60.8111 108.77 65.4176 Q111.848 70.0009 111.848 78.7508 Q111.848 87.4776 108.77 92.0841 Q105.714 96.6674 99.9039 96.6674 Q94.0937 96.6674 91.0151 92.0841 Q87.9595 87.4776 87.9595 78.7508 Q87.9595 70.0009 91.0151 65.4176 Q94.0937 60.8111 99.9039 60.8111 Z\" fill=\"#000000\" fill-rule=\"evenodd\" fill-opacity=\"1\" /><path clip-path=\"url(#clip300)\" d=\"M 0 0 M126.918 64.5148 Q123.307 64.5148 121.478 68.0796 Q119.672 71.6212 119.672 78.7508 Q119.672 85.8573 121.478 89.4221 Q123.307 92.9637 126.918 92.9637 Q130.552 92.9637 132.357 89.4221 Q134.186 85.8573 134.186 78.7508 Q134.186 71.6212 132.357 68.0796 Q130.552 64.5148 126.918 64.5148 M126.918 60.8111 Q132.728 60.8111 135.783 65.4176 Q138.862 70.0009 138.862 78.7508 Q138.862 87.4776 135.783 92.0841 Q132.728 96.6674 126.918 96.6674 Q121.107 96.6674 118.029 92.0841 Q114.973 87.4776 114.973 78.7508 Q114.973 70.0009 118.029 65.4176 Q121.107 60.8111 126.918 60.8111 Z\" fill=\"#000000\" fill-rule=\"evenodd\" fill-opacity=\"1\" /><polyline clip-path=\"url(#clip302)\" style=\"stroke:#009af9; stroke-width:4; stroke-opacity:1; fill:none\" points=\"\n",
       "  236.501,988.067 464.791,823.527 693.082,1040.04 921.373,87.9763 1149.66,1445.72 1377.95,374.711 1606.25,859.356 1834.54,453.273 2062.83,911.421 2291.12,738.419 \n",
       "  \n",
       "  \"/>\n",
       "<path clip-path=\"url(#clip300)\" d=\"\n",
       "M1987.15 216.178 L2280.16 216.178 L2280.16 95.2176 L1987.15 95.2176  Z\n",
       "  \" fill=\"#ffffff\" fill-rule=\"evenodd\" fill-opacity=\"1\"/>\n",
       "<polyline clip-path=\"url(#clip300)\" style=\"stroke:#000000; stroke-width:4; stroke-opacity:1; fill:none\" points=\"\n",
       "  1987.15,216.178 2280.16,216.178 2280.16,95.2176 1987.15,95.2176 1987.15,216.178 \n",
       "  \"/>\n",
       "<polyline clip-path=\"url(#clip300)\" style=\"stroke:#009af9; stroke-width:4; stroke-opacity:1; fill:none\" points=\"\n",
       "  2011.35,155.698 2156.54,155.698 \n",
       "  \"/>\n",
       "<path clip-path=\"url(#clip300)\" d=\"M 0 0 M2194.59 175.385 Q2192.78 180.015 2191.07 181.427 Q2189.35 182.839 2186.48 182.839 L2183.08 182.839 L2183.08 179.274 L2185.58 179.274 Q2187.34 179.274 2188.31 178.44 Q2189.29 177.607 2190.47 174.505 L2191.23 172.561 L2180.74 147.052 L2185.26 147.052 L2193.36 167.329 L2201.46 147.052 L2205.97 147.052 L2194.59 175.385 Z\" fill=\"#000000\" fill-rule=\"evenodd\" fill-opacity=\"1\" /><path clip-path=\"url(#clip300)\" d=\"M 0 0 M2211.85 169.042 L2219.49 169.042 L2219.49 142.677 L2211.18 144.343 L2211.18 140.084 L2219.45 138.418 L2224.12 138.418 L2224.12 169.042 L2231.76 169.042 L2231.76 172.978 L2211.85 172.978 L2211.85 169.042 Z\" fill=\"#000000\" fill-rule=\"evenodd\" fill-opacity=\"1\" /></svg>\n"
      ]
     },
     "execution_count": 1,
     "metadata": {},
     "output_type": "execute_result"
    }
   ],
   "source": [
    "using Plots\n",
    "x = 1:10; y = rand(10); # These are the plotting data\n",
    "plot(x, y)"
   ]
  },
  {
   "cell_type": "code",
   "execution_count": null,
   "metadata": {},
   "outputs": [],
   "source": [
    "x = 1:10; y = rand(10, 2) # 2 columns means two lines\n",
    "p = plot(x, y)\n",
    "z = rand(10)\n",
    "plot!(p, x, z)"
   ]
  },
  {
   "cell_type": "code",
   "execution_count": null,
   "metadata": {},
   "outputs": [],
   "source": [
    "using Plots\n",
    "# define the Lorenz attractor\n",
    "Base.@kwdef mutable struct Lorenz\n",
    "    dt::Float64 = 0.02\n",
    "    σ::Float64 = 10\n",
    "    ρ::Float64 = 28\n",
    "    β::Float64 = 8/3\n",
    "    x::Float64 = 1\n",
    "    y::Float64 = 1\n",
    "    z::Float64 = 1\n",
    "end\n",
    "\n",
    "function step!(l::Lorenz)\n",
    "    dx = l.σ * (l.y - l.x);         l.x += l.dt * dx\n",
    "    dy = l.x * (l.ρ - l.z) - l.y;   l.y += l.dt * dy\n",
    "    dz = l.x * l.y - l.β * l.z;     l.z += l.dt * dz\n",
    "end\n",
    "\n",
    "attractor = Lorenz()\n",
    "\n",
    "\n",
    "# initialize a 3D plot with 1 empty series\n",
    "plt = plot3d(\n",
    "    1,\n",
    "    xlim = (-30, 30),\n",
    "    ylim = (-30, 30),\n",
    "    zlim = (0, 60),\n",
    "    title = \"Lorenz Attractor\",\n",
    "    marker = 2,\n",
    ")\n",
    "\n",
    "# build an animated gif by pushing new points to the plot, saving every 10th frame\n",
    "@gif for i=1:1500\n",
    "    step!(attractor)\n",
    "    push!(plt, attractor.x, attractor.y, attractor.z)\n",
    "end every 10"
   ]
  },
  {
   "cell_type": "code",
   "execution_count": null,
   "metadata": {},
   "outputs": [],
   "source": [
    "using Plots\n",
    "default(legend = false)\n",
    "x = y = range(-5, 5, length = 40)\n",
    "zs = zeros(0, 40)\n",
    "n = 100\n",
    "\n",
    "@gif for i in range(0, stop = 2π, length = n)\n",
    "    f(x, y) = sin(x + 10sin(i)) + cos(y)\n",
    "\n",
    "    # create a plot with 3 subplots and a custom layout\n",
    "    l = @layout [a{0.7w} b; c{0.2h}]\n",
    "    p = plot(x, y, f, st = [:surface, :contourf], layout = l)\n",
    "\n",
    "    # induce a slight oscillating camera angle sweep, in degrees (azimuth, altitude)\n",
    "    plot!(p[1], camera = (10 * (1 + cos(i)), 40))\n",
    "\n",
    "    # add a tracking line\n",
    "    fixed_x = zeros(40)\n",
    "    z = map(f, fixed_x, y)\n",
    "    plot!(p[1], fixed_x, y, z, line = (:black, 5, 0.2))\n",
    "    vline!(p[2], [0], line = (:black, 5))\n",
    "\n",
    "    # add to and show the tracked values over time\n",
    "    global zs = vcat(zs, z')\n",
    "    plot!(p[3], zs, alpha = 0.2, palette = cgrad(:blues).colors)\n",
    "end"
   ]
  },
  {
   "cell_type": "code",
   "execution_count": null,
   "metadata": {},
   "outputs": [],
   "source": [
    "# load a dataset\n",
    "using RDatasets\n",
    "iris = dataset(\"datasets\", \"iris\");\n",
    "\n",
    "# load the StatsPlots recipes (for DataFrames) available via:\n",
    "# Pkg.add(\"StatsPlots\")\n",
    "using StatsPlots\n",
    "\n",
    "# Scatter plot with some custom settings\n",
    "@df iris scatter(\n",
    "    :SepalLength,\n",
    "    :SepalWidth,\n",
    "    group = :Species,\n",
    "    title = \"My awesome plot\",\n",
    "    xlabel = \"Length\",\n",
    "    ylabel = \"Width\",\n",
    "    m = (0.5, [:cross :hex :star7], 12),\n",
    "    bg = RGB(0.2, 0.2, 0.2)\n",
    ")"
   ]
  },
  {
   "cell_type": "code",
   "execution_count": null,
   "metadata": {},
   "outputs": [],
   "source": [
    "using GraphRecipes\n",
    "using Plots\n",
    "\n",
    "const n = 15\n",
    "const A = Float64[ rand() < 0.5 ? 0 : rand() for i=1:n, j=1:n]\n",
    "for i=1:n\n",
    "    A[i, 1:i-1] = A[1:i-1, i]\n",
    "    A[i, i] = 0\n",
    "end\n",
    "\n",
    "graphplot(A,\n",
    "          markersize = 0.2,\n",
    "          node_weights = 1:n,\n",
    "          markercolor = range(colorant\"yellow\", stop=colorant\"red\", length=n),\n",
    "          names = 1:n,\n",
    "          fontsize = 10,\n",
    "          linecolor = :darkgrey\n",
    "          )"
   ]
  },
  {
   "cell_type": "markdown",
   "metadata": {},
   "source": [
    "### Parallel Computing"
   ]
  },
  {
   "cell_type": "markdown",
   "metadata": {},
   "source": [
    "#### Multi-Threading"
   ]
  },
  {
   "cell_type": "code",
   "execution_count": null,
   "metadata": {},
   "outputs": [],
   "source": [
    "#Threads.nthreads()\n",
    "\n",
    "#--threads 4\n",
    "\n",
    "#Threads.threadid() # Check on with thread we are"
   ]
  },
  {
   "cell_type": "markdown",
   "metadata": {},
   "source": [
    "#### The @threads Macro\n",
    "\n",
    "Let's work a simple example using our native threads.\n",
    "\n",
    "Let us operate on this array simultaneously using 4 threads. We'll have each thread write its thread ID into each location.\n",
    "\n",
    "Julia supports parallel loops using the Threads.@threads macro. **This macro is affixed in front of a for loop** to indicate to Julia that the loop is a multi-threaded region:"
   ]
  },
  {
   "cell_type": "code",
   "execution_count": null,
   "metadata": {},
   "outputs": [],
   "source": [
    "a = zeros(10)\n",
    "\n",
    "Threads.@threads for i = 1:10\n",
    "    a[i] = Threads.threadid()\n",
    "end\n",
    "\n",
    "a"
   ]
  },
  {
   "cell_type": "markdown",
   "metadata": {},
   "source": [
    "The iteration space is split among the threads, after which each thread writes its thread ID to its assigned locations"
   ]
  },
  {
   "cell_type": "markdown",
   "metadata": {},
   "source": [
    "#### Asynchronous Programming"
   ]
  },
  {
   "cell_type": "markdown",
   "metadata": {},
   "source": [
    "When a program needs to interact with the **outside world**, for example communicating with another machine over the internet, operations in the program may need to happen in an **unpredictable order**. \n",
    "\n",
    "Say your program needs to download a file. We would like to initiate the download operation, perform other operations while we wait for it to complete, and then resume the code that needs the downloaded file when it is available. This sort of scenario falls in the domain of **asynchronous programming**, sometimes also referred to as **concurrent programming** (since, conceptually, multiple things are happening at once)."
   ]
  },
  {
   "cell_type": "markdown",
   "metadata": {},
   "source": [
    "To address these scenarios, Julia provides **Tasks** (also known by several other names, such as symmetric coroutines, lightweight threads, cooperative multitasking, or one-shot continuations). When a **piece of computing work** (in practice, executing a particular function) **is designated as a Task**, it becomes possible to interrupt it by switching to another Task"
   ]
  },
  {
   "cell_type": "markdown",
   "metadata": {},
   "source": [
    "Julia provides a **Channel** mechanism for solving this problem. A Channel is a **waitable first-in first-out queue** which can have multiple tasks reading from and writing to it."
   ]
  },
  {
   "cell_type": "code",
   "execution_count": 6,
   "metadata": {},
   "outputs": [],
   "source": [
    "# > function producer(c::Channel)\n",
    "#            put!(c, \"start\")\n",
    "#            for n=1:4\n",
    "#                put!(c, 2n)\n",
    "#            end\n",
    "#            put!(c, \"stop\")\n",
    "#        end;\n",
    "\n",
    "# > chnl = Channel(producer);\n",
    "\n",
    "# > take!(chnl)"
   ]
  },
  {
   "cell_type": "markdown",
   "metadata": {},
   "source": [
    "### Multi-processing and Distributed Computing"
   ]
  },
  {
   "cell_type": "markdown",
   "metadata": {},
   "source": [
    "Julia's implementation of message passing is **different from other environments such as MPI**. Communication in Julia is generally **\"one-sided\"**, meaning that the programmer needs to explicitly manage only one process in a two-process operation. Furthermore, these operations typically do not look like \"message send\" and \"message receive\" but rather resemble higher-level operations like **calls to user functions**."
   ]
  },
  {
   "cell_type": "markdown",
   "metadata": {},
   "source": [
    "Distributed programming in Julia is built on two primitives: **remote references** and **remote calls**.\n",
    "\n",
    "A **remote reference** is an object that can be used from any process to refer to an object stored on a particular process.\n",
    "\n",
    "A **remote call** is a request by one process to call a certain function on certain arguments on another (possibly the same) process."
   ]
  },
  {
   "cell_type": "code",
   "execution_count": null,
   "metadata": {},
   "outputs": [],
   "source": [
    "./julia -p 2"
   ]
  },
  {
   "cell_type": "markdown",
   "metadata": {},
   "source": [
    "Starting with **julia -p n** provides **n worker** processes on the local machine.\n",
    "\n",
    "Generally it makes sense for n to equal the number of CPU threads (logical cores) on the machine. "
   ]
  },
  {
   "cell_type": "code",
   "execution_count": null,
   "metadata": {},
   "outputs": [],
   "source": [
    "# Most parallel programming in Julia does not reference specific processes or the number \n",
    "#of processes available, but remotecall is considered a low-level interface providing finer control. \n",
    "\n",
    "r = remotecall(rand, 2, 2, 2) # We ask process 2 to construct a 2-by-2 random matrix \n",
    "#The @spawnat macro evaluates the expression in the second argument on the process specified by the first argument.\n",
    "\n",
    "s = @spawnat 2 1 .+ fetch(r) # Here we asked it to add 1 to it\n",
    "\n",
    "fetch(s) # Obtain the full value of the result"
   ]
  },
  {
   "cell_type": "markdown",
   "metadata": {},
   "source": [
    "Remote references come in two flavors: **Future** and **RemoteChannel**.\n",
    "\n",
    "A remote call returns a **Future** to its result. Remote calls return immediately"
   ]
  },
  {
   "cell_type": "markdown",
   "metadata": {},
   "source": [
    "### Starting and managing worker processes"
   ]
  },
  {
   "cell_type": "markdown",
   "metadata": {},
   "source": [
    "Functions **addprocs**,**rmprocs**, **workers**, and others are available as a programmatic means of **adding**, **removing** and **querying** the processes in a cluster."
   ]
  },
  {
   "cell_type": "code",
   "execution_count": null,
   "metadata": {},
   "outputs": [],
   "source": [
    "using Distributed\n",
    "\n",
    "addprocs(2)"
   ]
  },
  {
   "cell_type": "markdown",
   "metadata": {},
   "source": [
    "- Data Movement\n",
    "\n",
    "- Global variables\n",
    "\n",
    "- **Shared Arrays** - Shared Arrays use system shared memory to map the same array across many processes.\n"
   ]
  },
  {
   "cell_type": "code",
   "execution_count": null,
   "metadata": {},
   "outputs": [],
   "source": []
  }
 ],
 "metadata": {
  "kernelspec": {
   "display_name": "Julia 1.5.3",
   "language": "julia",
   "name": "julia-1.5"
  },
  "language_info": {
   "file_extension": ".jl",
   "mimetype": "application/julia",
   "name": "julia",
   "version": "1.5.3"
  }
 },
 "nbformat": 4,
 "nbformat_minor": 4
}
